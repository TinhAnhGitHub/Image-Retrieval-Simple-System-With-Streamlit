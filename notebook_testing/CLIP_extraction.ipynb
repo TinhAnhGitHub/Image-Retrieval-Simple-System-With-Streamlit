{
 "cells": [
  {
   "cell_type": "code",
   "execution_count": 9,
   "metadata": {},
   "outputs": [],
   "source": [
    "import os\n",
    "import torch\n",
    "import numpy as np\n",
    "import open_clip\n",
    "from PIL import Image\n",
    "import matplotlib.pyplot as plt\n",
    "from chromadb.utils.embedding_functions import OpenCLIPEmbeddingFunction\n",
    "import chromadb\n",
    "import sys\n",
    "from tqdm.notebook import tqdm\n",
    "import json "
   ]
  },
  {
   "cell_type": "code",
   "execution_count": 10,
   "metadata": {},
   "outputs": [
    {
     "name": "stdout",
     "output_type": "stream",
     "text": [
      "Current working directory: d:\\BachKhoa\\AIO-Projects\\OwnProject\\Image-Retrieval-Simple-System-With-Streamlit\n"
     ]
    }
   ],
   "source": [
    "def GET_PROJECT_ROOT():\n",
    "    current_abspath = os.path.abspath('./')\n",
    "    while True:\n",
    "        if os.path.split(current_abspath)[1] == 'Image-Retrieval-Simple-System-With-Streamlit':\n",
    "            project_root = current_abspath\n",
    "            break\n",
    "        else:\n",
    "            current_abspath = os.path.dirname(current_abspath)\n",
    "    return project_root\n",
    "\n",
    "PROJECT_ROOT = GET_PROJECT_ROOT()\n",
    "os.chdir(PROJECT_ROOT)\n",
    "sys.path.append(PROJECT_ROOT)\n",
    "print(f\"Current working directory: {os.getcwd()}\")"
   ]
  },
  {
   "cell_type": "code",
   "execution_count": 11,
   "metadata": {},
   "outputs": [],
   "source": [
    "embedding_function = OpenCLIPEmbeddingFunction()"
   ]
  },
  {
   "cell_type": "code",
   "execution_count": 34,
   "metadata": {},
   "outputs": [],
   "source": [
    "def get_single_image_embedding(\n",
    "    image\n",
    "):\n",
    "    embedding = embedding_function._encode_image(image=image)\n",
    "    return np.array(embedding)\n",
    "\n",
    "def read_image_from_path (path, size=(224, 224)):\n",
    "    im = Image.open(path).convert('RGB').resize(size)\n",
    "    return np.array(im)\n",
    "\n",
    "def precompute_embeddings(root_path, class_names):\n",
    "    all_embeddings = []\n",
    "    global_index2img_path = []\n",
    "    \n",
    "    for class_name in tqdm(class_names, desc=\"Computing embeddings\"):\n",
    "        class_path = os.path.join(root_path, class_name)\n",
    "        for img_name in sorted(os.listdir(class_path)):\n",
    "            img_path = os.path.join(class_path, img_name)\n",
    "            image = read_image_from_path(img_path)\n",
    "            embedding = get_single_image_embedding(image)\n",
    "            all_embeddings.append(embedding)\n",
    "            global_index2img_path.append(img_path)\n",
    "    \n",
    "    return np.array(all_embeddings), global_index2img_path\n",
    "\n",
    "\n",
    "def save_embeddings(embeddings, global_index2img_path, output_dir):\n",
    "    os.makedirs(output_dir, exist_ok=True)\n",
    "    np.save(os.path.join(output_dir, \"global_embeddings.npy\"), embeddings)\n",
    "    with open(os.path.join(output_dir, \"global_index2img_path.json\"), 'w') as f:\n",
    "        json.dump(global_index2img_path, f)\n",
    "\n",
    "def load_embeddings(input_dir):\n",
    "    embeddings = np.load(os.path.join(input_dir, \"global_embeddings.npy\"))\n",
    "    with open(os.path.join(input_dir, \"global_index2img_path.json\"), 'r') as f:\n",
    "        global_index2img_path = json.load(f)\n",
    "    return embeddings, global_index2img_path\n",
    "\n",
    "def cosine_similarity(query, data):\n",
    "    query = query.reshape(1, -1)  \n",
    "    data = data.reshape(-1, query.shape[1])  \n",
    "    \n",
    "    dot_product = np.dot(query, data.T)\n",
    "    query_norm = np.linalg.norm(query)\n",
    "    data_norm = np.linalg.norm(data, axis=1)\n",
    "    \n",
    "    similarities = dot_product / (query_norm * data_norm + np.finfo(float).eps)\n",
    "    return similarities.flatten()\n",
    "\n",
    "def search_similar_images(query_embedding, embeddings, global_index2img_path, top_k=20):\n",
    "    similarities = cosine_similarity(query_embedding, embeddings)\n",
    "    top_indices = np.argsort(similarities)[-top_k:][::-1]\n",
    "    return [(global_index2img_path[i], similarities[i]) for i in top_indices]"
   ]
  },
  {
   "cell_type": "code",
   "execution_count": 16,
   "metadata": {},
   "outputs": [],
   "source": [
    "ROOT = './data/processed'\n",
    "TRAIN_DIR = f'{ROOT}/train'\n",
    "TEST_DIR = f'{ROOT}/test'\n",
    "EMBEDDINGS_DIR = f'{ROOT}/embeddings'\n",
    "\n",
    "CLASS_NAME = sorted(list(os.listdir(f'{ROOT}/train'))) # A list of ClassName from ImageNetV1\n",
    "QUERY_PATH = f'{TEST_DIR}/Orange_easy/0_100.jpg'"
   ]
  },
  {
   "cell_type": "code",
   "execution_count": 14,
   "metadata": {},
   "outputs": [
    {
     "data": {
      "application/vnd.jupyter.widget-view+json": {
       "model_id": "1ebe7e88b4864ceab73c6668197a3bd3",
       "version_major": 2,
       "version_minor": 0
      },
      "text/plain": [
       "Computing embeddings:   0%|          | 0/60 [00:00<?, ?it/s]"
      ]
     },
     "metadata": {},
     "output_type": "display_data"
    }
   ],
   "source": [
    "all_embeddings, global_index2img_path = precompute_embeddings(\n",
    "    TRAIN_DIR, CLASS_NAME\n",
    ")"
   ]
  },
  {
   "cell_type": "code",
   "execution_count": 35,
   "metadata": {},
   "outputs": [],
   "source": [
    "query_img = read_image_from_path(QUERY_PATH)\n",
    "query_embedding = get_single_image_embedding(query_img).reshape(1, -1)\n",
    "similar_images = search_similar_images(query_embedding, all_embeddings, global_index2img_path)\n"
   ]
  },
  {
   "cell_type": "code",
   "execution_count": 37,
   "metadata": {},
   "outputs": [
    {
     "data": {
      "text/plain": [
       "[('./data/processed/train\\\\Orange_easy\\\\r_305_100.jpg', 0.9708879446852944),\n",
       " ('./data/processed/train\\\\Orange_easy\\\\r_193_100.jpg', 0.9505567539680412),\n",
       " ('./data/processed/train\\\\Orange_easy\\\\r_137_100.jpg', 0.9431781392710117),\n",
       " ('./data/processed/train\\\\Orange_easy\\\\r_170_100.jpg', 0.9415943297391881),\n",
       " ('./data/processed/train\\\\Orange_easy\\\\dark.png', 0.8643594598443793),\n",
       " ('./data/processed/train\\\\goldfish\\\\n01443537_1415.JPEG', 0.4325751026037816)]"
      ]
     },
     "execution_count": 37,
     "metadata": {},
     "output_type": "execute_result"
    }
   ],
   "source": [
    "similar_images[:6]"
   ]
  },
  {
   "cell_type": "code",
   "execution_count": null,
   "metadata": {},
   "outputs": [],
   "source": []
  }
 ],
 "metadata": {
  "kernelspec": {
   "display_name": "ImgRetrieveStreamlit_envs",
   "language": "python",
   "name": "python3"
  },
  "language_info": {
   "codemirror_mode": {
    "name": "ipython",
    "version": 3
   },
   "file_extension": ".py",
   "mimetype": "text/x-python",
   "name": "python",
   "nbconvert_exporter": "python",
   "pygments_lexer": "ipython3",
   "version": "3.11.9"
  }
 },
 "nbformat": 4,
 "nbformat_minor": 2
}
